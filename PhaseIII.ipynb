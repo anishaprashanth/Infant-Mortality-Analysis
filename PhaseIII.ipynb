{
  "nbformat": 4,
  "nbformat_minor": 0,
  "metadata": {
    "colab": {
      "provenance": []
    },
    "kernelspec": {
      "display_name": "Python 3",
      "language": "python",
      "name": "python3"
    },
    "language_info": {
      "codemirror_mode": {
        "name": "ipython",
        "version": 3
      },
      "file_extension": ".py",
      "mimetype": "text/x-python",
      "name": "python",
      "nbconvert_exporter": "python",
      "pygments_lexer": "ipython3",
      "version": "3.7.4"
    }
  },
  "cells": [
    {
      "cell_type": "markdown",
      "metadata": {
        "id": "GJ4Xt1uf1LT7"
      },
      "source": [
        "# Final Project Phase 3 Summary\n",
        "This Jupyter Notebook (.ipynb) will serve as the skeleton file for your submission for Phase 3 of the Final Project. Complete all sections below as specified in the instructions for the project, covering all necessary details. We will use this to grade your individual code (Do this whether you are in a group or not). Good luck! <br><br>\n",
        "\n",
        "Note: To edit a Markdown cell, double-click on its text."
      ]
    },
    {
      "cell_type": "markdown",
      "metadata": {
        "id": "JEtNzYHagmon"
      },
      "source": []
    },
    {
      "cell_type": "markdown",
      "metadata": {
        "id": "tjB_SbWY1LUB"
      },
      "source": [
        "## Jupyter Notebook Quick Tips\n",
        "Here are some quick formatting tips to get you started with Jupyter Notebooks. This is by no means exhaustive, and there are plenty of articles to highlight other things that can be done. We recommend using HTML syntax for Markdown but there is also Markdown syntax that is more streamlined and might be preferable.\n",
        "<a href = \"https://towardsdatascience.com/markdown-cells-jupyter-notebook-d3bea8416671\">Here's an article</a> that goes into more detail. (Double-click on cell to see syntax)\n",
        "\n",
        "# Heading 1\n",
        "## Heading 2\n",
        "### Heading 3\n",
        "#### Heading 4\n",
        "<br>\n",
        "<b>BoldText</b> or <i>ItalicText</i>\n",
        "<br> <br>\n",
        "Math Formulas: $x^2 + y^2 = 1$\n",
        "<br> <br>\n",
        "Line Breaks are done using br enclosed in < >.\n",
        "<br><br>\n",
        "Hyperlinks are done with: <a> https://www.google.com </a> or\n",
        "<a href=\"http://www.google.com\">Google</a><br>"
      ]
    },
    {
      "cell_type": "markdown",
      "metadata": {
        "id": "tb9oVjpRDswQ"
      },
      "source": [
        "# Phase II Revisions\n",
        "\n",
        "\n",
        "Use the following cell (or more if you need them) to make any needed revisions or additions to your Phase II data cleaning. If you were not recommended to make any changes, and don't have any new data sources for Phase III, you may skip this part.\n"
      ]
    },
    {
      "cell_type": "code",
      "metadata": {
        "id": "YtV_MYeusYDd",
        "colab": {
          "base_uri": "https://localhost:8080/"
        },
        "outputId": "13ae6dc6-423e-4e0f-96d2-3945c0fa9201"
      },
      "source": [
        "import csv\n",
        "import pandas as pd\n",
        "def data_cleaning():\n",
        "\n",
        "### imr ###\n",
        "\n",
        "    reader_list = []\n",
        "    with open(\"imr.csv\", encoding = \"utf8\") as csvfile:\n",
        "        reader = csv.reader(csvfile)\n",
        "        reader_list = list(reader)\n",
        "\n",
        "    header = [\"Country\"] + reader_list[8][39:64]\n",
        "    reader_list = reader_list[9:]\n",
        "    finalreg = []\n",
        "    finalcon = []\n",
        "\n",
        "    for i in reader_list:\n",
        "        fornowcon = []\n",
        "        fornowreg = []\n",
        "        if len(i) != 0:\n",
        "            country = i[0]\n",
        "            if \"income\" in country and \"(\" not in country and \"&\" not in country:\n",
        "              fornowreg += [country]\n",
        "              for x in i[39:64]:\n",
        "                if x != \"\":\n",
        "                    fornowreg += [float(x)]\n",
        "                if len(fornowreg) == 26:\n",
        "                    finalreg+=[fornowreg]\n",
        "            else:\n",
        "              fornowcon += [country]\n",
        "              for x in i[39:64]:\n",
        "                if x != \"\":\n",
        "                    fornowcon += [float(x)]\n",
        "                if len(fornowcon) == 26:\n",
        "                    finalcon +=[fornowcon]\n",
        "\n",
        "    final_pdreg = pd.DataFrame(data = finalreg, columns = header)\n",
        "    #final_pdreg.set_index(\"Country\", inplace = True)\n",
        "    #final_pdreg.loc[\"Mean by Year\", :] = final_pdreg.mean(axis = 0)\n",
        "    final_pdreg[\"Mean by Country\"] = final_pdreg.mean(axis = 1)\n",
        "    final_pdcon = pd.DataFrame(data = finalcon, columns = header)\n",
        "    #final_pdcon.set_index(\"Country\", inplace = True)\n",
        "    #final_pdcon.loc[\"Mean by Year\", :] = final_pdcon.mean(axis = 0)\n",
        "    final_pdcon[\"Mean by Country\"] = final_pdcon.mean(axis = 1)\n",
        "    final_pd = pd.concat([final_pdreg, final_pdcon])\n",
        "    final_pd.to_csv(\"imrdata.csv\")\n",
        "    print( final_pd )\n",
        "### Water ###\n",
        "    reader_list = []\n",
        "    with open(\"NumberofDeathsbyWater.csv\", encoding = \"utf8\") as csvfile:\n",
        "      reader = csv.reader(csvfile)\n",
        "      reader_list = list(reader)\n",
        "\n",
        "    header = reader_list[0]\n",
        "    reader_list = reader_list[1:]\n",
        "\n",
        "    final = []\n",
        "    for i in reader_list:\n",
        "      country = i[0]\n",
        "      deaths = round(float(i[3]),2)\n",
        "      if i[2] == \"2017\":\n",
        "          final += [[country, deaths]]\n",
        "    final_pd = pd.DataFrame(data = final, columns = [\"Country\", \"Deaths\"])\n",
        "    final_pd.to_csv(\"waterdata.csv\")\n",
        "    print( final_pd)\n",
        "\n",
        "  ### pollution ###\n",
        "\n",
        "    pollutiondata = pd.read_csv(\"pollutiondata.csv\", delimiter = \",\")\n",
        "    pollutiondata.rename(columns = {\"Country Name\": \"Country\", \"Value\": \"Pollution\"}, inplace = True)\n",
        "    pollutiondata.to_csv(\"pollutiondata.csv\")\n",
        "    print(pollutiondata)\n",
        "\n",
        "\n",
        "\n",
        "\n",
        "\n",
        "############ Function Call ############\n",
        "data_cleaning()"
      ],
      "execution_count": null,
      "outputs": [
        {
          "output_type": "stream",
          "name": "stdout",
          "text": [
            "                 Country        1995  ...       2019  Mean by Country\n",
            "0            High income    8.400000  ...   4.300000         5.820000\n",
            "1             Low income  100.900000  ...  47.900000        71.356000\n",
            "2    Lower middle income   77.500000  ...  36.600000        55.216000\n",
            "3          Middle income   60.691912  ...  26.852219        42.011005\n",
            "4    Upper middle income   37.000000  ...  11.300000        21.852000\n",
            "..                   ...         ...  ...        ...              ...\n",
            "231                Samoa   21.100000  ...  12.900000        16.332000\n",
            "232          Yemen, Rep.   79.300000  ...  43.600000        54.912000\n",
            "233         South Africa   43.800000  ...  27.500000        38.764000\n",
            "234               Zambia  101.400000  ...  42.400000        65.964000\n",
            "235             Zimbabwe   55.500000  ...  38.400000        50.048000\n",
            "\n",
            "[241 rows x 27 columns]\n",
            "                        Country      Deaths\n",
            "0                   Afghanistan     5256.65\n",
            "1                       Albania        4.09\n",
            "2                       Algeria      189.94\n",
            "3                American Samoa        0.72\n",
            "4          Andean Latin America     1257.99\n",
            "..                          ...         ...\n",
            "226  Western Sub-Saharan Africa   232494.40\n",
            "227                       World  1232368.28\n",
            "228                       Yemen     6435.59\n",
            "229                      Zambia     6288.67\n",
            "230                    Zimbabwe     3796.07\n",
            "\n",
            "[231 rows x 2 columns]\n",
            "                   Country  Pollution\n",
            "0              Afghanistan      100.0\n",
            "1                  Albania      100.0\n",
            "2                  Algeria      100.0\n",
            "3           American Samoa        0.0\n",
            "4                  Andorra      100.0\n",
            "..                     ...        ...\n",
            "189  Virgin Islands (U.S.)      100.0\n",
            "190     West Bank and Gaza      100.0\n",
            "191            Yemen, Rep.      100.0\n",
            "192                 Zambia      100.0\n",
            "193               Zimbabwe      100.0\n",
            "\n",
            "[194 rows x 2 columns]\n"
          ]
        }
      ]
    },
    {
      "cell_type": "markdown",
      "metadata": {
        "id": "E5IgIeLI9Kw2"
      },
      "source": [
        "# Inconsistency Revisions\n",
        " **If you were requested to revise your inconsistency section from Phase II, enter your responses here. Otherwise, ignore this section.**\n",
        "\n",
        "For each inconsistency (NaN, null, duplicate values, empty strings, etc.) you discover in your datasets, write at least 2 sentences stating the significance, how you identified it, and how you handled it.\n",
        "\n",
        "1.\n",
        "\n",
        "2.\n",
        "\n",
        "3.\n",
        "\n",
        "4. (if applicable)\n",
        "\n",
        "5. (if applicable)\n"
      ]
    },
    {
      "cell_type": "markdown",
      "metadata": {
        "id": "8SQxJGDUs1gw"
      },
      "source": [
        "## Data Sources\n",
        "\n",
        "Include sources (as links) to your datasets. If any of these are different from your sources used in Phase II, please <b>clearly</b> specify.\n",
        "\n",
        "*   Downloaded Dataset Source:\n",
        "*   Web Collection #1 Source:\n",
        "*   Web Collection #2 Source:\n",
        "\n"
      ]
    },
    {
      "cell_type": "markdown",
      "metadata": {
        "id": "A-CWo6kwvFvS"
      },
      "source": [
        "# Data Analysis\n",
        "For the Data Analysis section, you are required to utilize your data to complete the following:\n",
        "\n",
        "*   Create at least 5 insights\n",
        "*   Generate at least 3 data visualizations\n",
        "*   Export aggregated data to at least 1 summary file\n",
        "\n",
        "Create a function for each of the following sections mentioned above. Do not forget to fill out the explanation section for each function.\n",
        "\n",
        "Make sure your data analysis is not too simple. Performing complex aggregation and using modules not taught in class shows effort, which will increase the chance of receiving full credit."
      ]
    },
    {
      "cell_type": "markdown",
      "metadata": {
        "id": "7GzggCBoxwGA"
      },
      "source": [
        "# Graphical User Interface (GUI) Implementation\n",
        "If you decide to create a GUI for Phase II, please create a separate Python file (.py) to build your GUI. You must submit both the completed PhaseIII.ipynb and your Python GUI file."
      ]
    },
    {
      "cell_type": "markdown",
      "metadata": {
        "id": "VWv36q-Owkbi"
      },
      "source": [
        "## Insights"
      ]
    },
    {
      "cell_type": "code",
      "metadata": {
        "id": "0J5Z3M84wmaY",
        "colab": {
          "base_uri": "https://localhost:8080/"
        },
        "outputId": "04c7e2ca-6317-4634-82f4-de29fa3bbb9f"
      },
      "source": [
        "import matplotlib.pyplot as plt\n",
        "import pandas as pd\n",
        "def insight1():\n",
        "  data = pd.read_csv(\"imrdata.csv\", delimiter = \",\", index_col = 0)\n",
        "  databyincome = data.iloc[0:5]\n",
        "  databyincome.sort_values(by = \"Mean by Country\", ascending = False, inplace = True)\n",
        "  high = (list(databyincome[\"Country\"])[0])\n",
        "  low = (list(databyincome[\"Country\"])[-1])\n",
        "  print(\"Income level with highest imr: \" + high + \"; Income level with the lowest imr: \" + low)\n",
        "\n",
        "\n",
        "############ Function Call ############\n",
        "insight1()"
      ],
      "execution_count": null,
      "outputs": [
        {
          "output_type": "stream",
          "name": "stdout",
          "text": [
            "Income level with highest imr: Low income; Income level with the lowest imr: High income\n"
          ]
        },
        {
          "output_type": "stream",
          "name": "stderr",
          "text": [
            "/usr/local/lib/python3.7/dist-packages/ipykernel_launcher.py:6: SettingWithCopyWarning: \n",
            "A value is trying to be set on a copy of a slice from a DataFrame\n",
            "\n",
            "See the caveats in the documentation: https://pandas.pydata.org/pandas-docs/stable/user_guide/indexing.html#returning-a-view-versus-a-copy\n",
            "  \n"
          ]
        }
      ]
    },
    {
      "cell_type": "markdown",
      "metadata": {
        "id": "54oggrpbw6TX"
      },
      "source": [
        "### Insight 1 Explanation\n",
        "\n",
        "When analyzing highs and lows of mean IMR over the years under the basis of income per country, it opens our analysis up to the idea that, on average, IMR varies based on quality of living. Income is the most direct measure of quality of life and our analysis proves that countries with low income levels have high mean IMR and high income levels have low IMR."
      ]
    },
    {
      "cell_type": "code",
      "metadata": {
        "id": "mJe4pMRgwuC5",
        "colab": {
          "base_uri": "https://localhost:8080/"
        },
        "outputId": "bce2bcc6-7047-4e4c-d749-f2725fca3406"
      },
      "source": [
        "import numpy as np\n",
        "def insight2():\n",
        "  nddata = pd.read_csv(\"nddata.csv\", delimiter = \",\", index_col= 0)\n",
        "  imrdata = pd.read_csv(\"imrdata.csv\", delimiter = \",\", index_col= 0)\n",
        "  waterdata = pd.read_csv(\"waterdata.csv\", delimiter = \",\")\n",
        "  pollutiondata = pd.read_csv(\"pollutiondata.csv\", delimiter = \",\")\n",
        "  combined = pd.concat([imrdata, nddata, waterdata, pollutiondata])\n",
        "  combined = combined.groupby(\"Country\").aggregate({\"Male%\":\"sum\", \"Female%\" : \"sum\", \"Deaths\" : \"sum\", \"Mean by Country\": \"sum\", \"Pollution\": \"sum\"})\n",
        "  combined  = combined.rename(columns = {\"Mean by Country\": \"Mean IMR\"})\n",
        "  combined = combined.replace(0, np.NaN)\n",
        "  combined = combined.dropna()\n",
        "  combined.to_csv(\"agg_all.csv\")\n",
        "  alldata = pd.read_csv(\"agg_all.csv\", delimiter = \",\")\n",
        "  ndpercent = round(((alldata[\"Country\"][(alldata[\"Male%\"] > 15)&(alldata[\"Female%\"] > 15)]).size / alldata[\"Country\"].size ) * 100, 2)\n",
        "  pollutionpercent = round(((alldata[\"Country\"][alldata[\"Pollution\"] >= 100]).size / alldata[\"Country\"].size)*100,2)\n",
        "  waterpercent = round(((alldata[\"Country\"][alldata[\"Deaths\"] > 3000]).size / alldata[\"Country\"].size)*100,2)\n",
        "  imrpercent = round(((alldata[\"Country\"][alldata[\"Mean IMR\"] > 50]).size / alldata[\"Country\"].size)*100, 2)\n",
        "  print(\"Percent over water threshold: \" + str(waterpercent) + \"% \\nPercent over nurtional deficiency threshold: \" + str(ndpercent) + \"% \\nPercent over pollution threshold: \" + str(pollutionpercent) + \"% \\nPercent over IMR threshold: \" + str(imrpercent) + \"%\")\n",
        "\n",
        "\n",
        "\n",
        "\n",
        "\n",
        "\n",
        "\n",
        "############ Function Call ############\n",
        "insight2()"
      ],
      "execution_count": null,
      "outputs": [
        {
          "output_type": "stream",
          "name": "stdout",
          "text": [
            "Percent over water threshold: 33.62% \n",
            "Percent over nurtional deficiency threshold: 27.59% \n",
            "Percent over pollution threshold: 79.31% \n",
            "Percent over IMR threshold: 33.62%\n"
          ]
        }
      ]
    },
    {
      "cell_type": "markdown",
      "metadata": {
        "id": "P08Se47bxG5d"
      },
      "source": [
        "### Insight 2 Explanation\n",
        "\n",
        "As per the thresholds identified through research, 3000 deaths for water deaths, 100 deaths for nutritional deficiency, 15% for pollution and IMR of 50, are considered for a country to be at the top percentiles of risk. Through our data we identified that around 33.62%, 27.59%, 79.31%, 33.62%  of countries were over their thresholds respectively. This shows that in regards to water related deaths, nutritional deficiency, and IMR there is a chance that around 30% of countries are at top percentiles of risk, while for pollution around 80% of countries are at the top percentiles at risk."
      ]
    },
    {
      "cell_type": "code",
      "metadata": {
        "id": "00EurEXJwvxf",
        "colab": {
          "base_uri": "https://localhost:8080/",
          "height": 455
        },
        "outputId": "ff4acf16-d690-4fb5-ea1d-38f204f87028"
      },
      "source": [
        "def insight3():\n",
        "  nddata = pd.read_csv(\"nddata.csv\", delimiter = \",\")\n",
        "  pollutiondata = pd.read_csv(\"pollutiondata.csv\", delimiter = \",\")\n",
        "  waterdata = pd.read_csv(\"waterdata.csv\", delimiter = \",\")\n",
        "  new = pd.concat([nddata, pollutiondata, waterdata])\n",
        "  #new = new.fillna(0)\n",
        "  new = new.drop([\"Year\"], axis=1)\n",
        "  new = new.groupby(\"Country\").aggregate({\"Male%\":\"sum\", \"Female%\" : \"sum\", \"Pollution\" : \"sum\", \"Deaths\" : \"sum\" })\n",
        "  new = new.replace(0, np.NaN)\n",
        "  new = new.dropna()\n",
        "  new[\"Deaths\"] =  new[\"Deaths\"] / 1000\n",
        "  new.to_csv(\"agg_factors.csv\")\n",
        "  return new\n",
        "\n",
        "\n",
        "\n",
        "\n",
        "\n",
        "############ Function Call ############\n",
        "insight3()"
      ],
      "execution_count": null,
      "outputs": [
        {
          "output_type": "execute_result",
          "data": {
            "text/html": [
              "<div>\n",
              "<style scoped>\n",
              "    .dataframe tbody tr th:only-of-type {\n",
              "        vertical-align: middle;\n",
              "    }\n",
              "\n",
              "    .dataframe tbody tr th {\n",
              "        vertical-align: top;\n",
              "    }\n",
              "\n",
              "    .dataframe thead th {\n",
              "        text-align: right;\n",
              "    }\n",
              "</style>\n",
              "<table border=\"1\" class=\"dataframe\">\n",
              "  <thead>\n",
              "    <tr style=\"text-align: right;\">\n",
              "      <th></th>\n",
              "      <th>Male%</th>\n",
              "      <th>Female%</th>\n",
              "      <th>Pollution</th>\n",
              "      <th>Deaths</th>\n",
              "    </tr>\n",
              "    <tr>\n",
              "      <th>Country</th>\n",
              "      <th></th>\n",
              "      <th></th>\n",
              "      <th></th>\n",
              "      <th></th>\n",
              "    </tr>\n",
              "  </thead>\n",
              "  <tbody>\n",
              "    <tr>\n",
              "      <th>Afghanistan</th>\n",
              "      <td>32.7</td>\n",
              "      <td>33.0</td>\n",
              "      <td>100.000000</td>\n",
              "      <td>5.25665</td>\n",
              "    </tr>\n",
              "    <tr>\n",
              "      <th>Albania</th>\n",
              "      <td>6.6</td>\n",
              "      <td>6.0</td>\n",
              "      <td>100.000000</td>\n",
              "      <td>0.00409</td>\n",
              "    </tr>\n",
              "    <tr>\n",
              "      <th>Algeria</th>\n",
              "      <td>3.1</td>\n",
              "      <td>3.0</td>\n",
              "      <td>100.000000</td>\n",
              "      <td>0.18994</td>\n",
              "    </tr>\n",
              "    <tr>\n",
              "      <th>Angola</th>\n",
              "      <td>16.6</td>\n",
              "      <td>14.6</td>\n",
              "      <td>100.000000</td>\n",
              "      <td>14.65692</td>\n",
              "    </tr>\n",
              "    <tr>\n",
              "      <th>Argentina</th>\n",
              "      <td>2.4</td>\n",
              "      <td>2.2</td>\n",
              "      <td>98.322282</td>\n",
              "      <td>0.26714</td>\n",
              "    </tr>\n",
              "    <tr>\n",
              "      <th>...</th>\n",
              "      <td>...</td>\n",
              "      <td>...</td>\n",
              "      <td>...</td>\n",
              "      <td>...</td>\n",
              "    </tr>\n",
              "    <tr>\n",
              "      <th>Uzbekistan</th>\n",
              "      <td>4.6</td>\n",
              "      <td>4.3</td>\n",
              "      <td>100.000000</td>\n",
              "      <td>0.10505</td>\n",
              "    </tr>\n",
              "    <tr>\n",
              "      <th>Vanuatu</th>\n",
              "      <td>14.1</td>\n",
              "      <td>9.0</td>\n",
              "      <td>42.917931</td>\n",
              "      <td>0.02806</td>\n",
              "    </tr>\n",
              "    <tr>\n",
              "      <th>Vietnam</th>\n",
              "      <td>11.8</td>\n",
              "      <td>12.1</td>\n",
              "      <td>100.000000</td>\n",
              "      <td>1.57662</td>\n",
              "    </tr>\n",
              "    <tr>\n",
              "      <th>Zambia</th>\n",
              "      <td>16.2</td>\n",
              "      <td>13.4</td>\n",
              "      <td>100.000000</td>\n",
              "      <td>6.28867</td>\n",
              "    </tr>\n",
              "    <tr>\n",
              "      <th>Zimbabwe</th>\n",
              "      <td>12.5</td>\n",
              "      <td>9.8</td>\n",
              "      <td>100.000000</td>\n",
              "      <td>3.79607</td>\n",
              "    </tr>\n",
              "  </tbody>\n",
              "</table>\n",
              "<p>116 rows × 4 columns</p>\n",
              "</div>"
            ],
            "text/plain": [
              "             Male%  Female%   Pollution    Deaths\n",
              "Country                                          \n",
              "Afghanistan   32.7     33.0  100.000000   5.25665\n",
              "Albania        6.6      6.0  100.000000   0.00409\n",
              "Algeria        3.1      3.0  100.000000   0.18994\n",
              "Angola        16.6     14.6  100.000000  14.65692\n",
              "Argentina      2.4      2.2   98.322282   0.26714\n",
              "...            ...      ...         ...       ...\n",
              "Uzbekistan     4.6      4.3  100.000000   0.10505\n",
              "Vanuatu       14.1      9.0   42.917931   0.02806\n",
              "Vietnam       11.8     12.1  100.000000   1.57662\n",
              "Zambia        16.2     13.4  100.000000   6.28867\n",
              "Zimbabwe      12.5      9.8  100.000000   3.79607\n",
              "\n",
              "[116 rows x 4 columns]"
            ]
          },
          "metadata": {},
          "execution_count": 7
        }
      ]
    },
    {
      "cell_type": "code",
      "source": [],
      "metadata": {
        "id": "_BGwVXelEy3F"
      },
      "execution_count": null,
      "outputs": []
    },
    {
      "cell_type": "markdown",
      "metadata": {
        "id": "6QNP4yx2xHkT"
      },
      "source": [
        "### Insight 3 Explanation\n",
        "In this insight, we can identify that water deaths and nutritional deficiencies are factors that signify quality of life, but pollution is not. However, pollution could possibly be a factor that affects IMR as certain developed countries can have low IMR, low water deaths, and low nutritional deficiency but high pollution."
      ]
    },
    {
      "cell_type": "code",
      "metadata": {
        "id": "LUWgj50BwwKN",
        "colab": {
          "base_uri": "https://localhost:8080/",
          "height": 455
        },
        "outputId": "6f015fcf-88d5-4618-880f-d6f95e0ff61d"
      },
      "source": [
        "def insight4():\n",
        "  alldata = pd.read_csv(\"agg_all.csv\", delimiter = \",\", index_col= 0)\n",
        "  return(alldata)\n",
        "\n",
        "\n",
        "\n",
        "############ Function Call ############\n",
        "insight4()"
      ],
      "execution_count": null,
      "outputs": [
        {
          "output_type": "execute_result",
          "data": {
            "text/html": [
              "<div>\n",
              "<style scoped>\n",
              "    .dataframe tbody tr th:only-of-type {\n",
              "        vertical-align: middle;\n",
              "    }\n",
              "\n",
              "    .dataframe tbody tr th {\n",
              "        vertical-align: top;\n",
              "    }\n",
              "\n",
              "    .dataframe thead th {\n",
              "        text-align: right;\n",
              "    }\n",
              "</style>\n",
              "<table border=\"1\" class=\"dataframe\">\n",
              "  <thead>\n",
              "    <tr style=\"text-align: right;\">\n",
              "      <th></th>\n",
              "      <th>Male%</th>\n",
              "      <th>Female%</th>\n",
              "      <th>Deaths</th>\n",
              "      <th>Mean IMR</th>\n",
              "      <th>Pollution</th>\n",
              "    </tr>\n",
              "    <tr>\n",
              "      <th>Country</th>\n",
              "      <th></th>\n",
              "      <th></th>\n",
              "      <th></th>\n",
              "      <th></th>\n",
              "      <th></th>\n",
              "    </tr>\n",
              "  </thead>\n",
              "  <tbody>\n",
              "    <tr>\n",
              "      <th>Afghanistan</th>\n",
              "      <td>32.7</td>\n",
              "      <td>33.0</td>\n",
              "      <td>5256.65</td>\n",
              "      <td>72.800</td>\n",
              "      <td>100.000000</td>\n",
              "    </tr>\n",
              "    <tr>\n",
              "      <th>Albania</th>\n",
              "      <td>6.6</td>\n",
              "      <td>6.0</td>\n",
              "      <td>4.09</td>\n",
              "      <td>16.616</td>\n",
              "      <td>100.000000</td>\n",
              "    </tr>\n",
              "    <tr>\n",
              "      <th>Algeria</th>\n",
              "      <td>3.1</td>\n",
              "      <td>3.0</td>\n",
              "      <td>189.94</td>\n",
              "      <td>27.552</td>\n",
              "      <td>100.000000</td>\n",
              "    </tr>\n",
              "    <tr>\n",
              "      <th>Angola</th>\n",
              "      <td>16.6</td>\n",
              "      <td>14.6</td>\n",
              "      <td>14656.92</td>\n",
              "      <td>90.748</td>\n",
              "      <td>100.000000</td>\n",
              "    </tr>\n",
              "    <tr>\n",
              "      <th>Argentina</th>\n",
              "      <td>2.4</td>\n",
              "      <td>2.2</td>\n",
              "      <td>267.14</td>\n",
              "      <td>14.244</td>\n",
              "      <td>98.322282</td>\n",
              "    </tr>\n",
              "    <tr>\n",
              "      <th>...</th>\n",
              "      <td>...</td>\n",
              "      <td>...</td>\n",
              "      <td>...</td>\n",
              "      <td>...</td>\n",
              "      <td>...</td>\n",
              "    </tr>\n",
              "    <tr>\n",
              "      <th>Uzbekistan</th>\n",
              "      <td>4.6</td>\n",
              "      <td>4.3</td>\n",
              "      <td>105.05</td>\n",
              "      <td>36.468</td>\n",
              "      <td>100.000000</td>\n",
              "    </tr>\n",
              "    <tr>\n",
              "      <th>Vanuatu</th>\n",
              "      <td>14.1</td>\n",
              "      <td>9.0</td>\n",
              "      <td>28.06</td>\n",
              "      <td>23.968</td>\n",
              "      <td>42.917931</td>\n",
              "    </tr>\n",
              "    <tr>\n",
              "      <th>Vietnam</th>\n",
              "      <td>11.8</td>\n",
              "      <td>12.1</td>\n",
              "      <td>1576.62</td>\n",
              "      <td>20.436</td>\n",
              "      <td>100.000000</td>\n",
              "    </tr>\n",
              "    <tr>\n",
              "      <th>Zambia</th>\n",
              "      <td>16.2</td>\n",
              "      <td>13.4</td>\n",
              "      <td>6288.67</td>\n",
              "      <td>65.964</td>\n",
              "      <td>100.000000</td>\n",
              "    </tr>\n",
              "    <tr>\n",
              "      <th>Zimbabwe</th>\n",
              "      <td>12.5</td>\n",
              "      <td>9.8</td>\n",
              "      <td>3796.07</td>\n",
              "      <td>50.048</td>\n",
              "      <td>100.000000</td>\n",
              "    </tr>\n",
              "  </tbody>\n",
              "</table>\n",
              "<p>116 rows × 5 columns</p>\n",
              "</div>"
            ],
            "text/plain": [
              "             Male%  Female%    Deaths  Mean IMR   Pollution\n",
              "Country                                                    \n",
              "Afghanistan   32.7     33.0   5256.65    72.800  100.000000\n",
              "Albania        6.6      6.0      4.09    16.616  100.000000\n",
              "Algeria        3.1      3.0    189.94    27.552  100.000000\n",
              "Angola        16.6     14.6  14656.92    90.748  100.000000\n",
              "Argentina      2.4      2.2    267.14    14.244   98.322282\n",
              "...            ...      ...       ...       ...         ...\n",
              "Uzbekistan     4.6      4.3    105.05    36.468  100.000000\n",
              "Vanuatu       14.1      9.0     28.06    23.968   42.917931\n",
              "Vietnam       11.8     12.1   1576.62    20.436  100.000000\n",
              "Zambia        16.2     13.4   6288.67    65.964  100.000000\n",
              "Zimbabwe      12.5      9.8   3796.07    50.048  100.000000\n",
              "\n",
              "[116 rows x 5 columns]"
            ]
          },
          "metadata": {},
          "execution_count": 9
        }
      ]
    },
    {
      "cell_type": "markdown",
      "metadata": {
        "id": "4Tv4xPG8xIIh"
      },
      "source": [
        "### Insight 4 Explanation\n",
        "Finding correlations between IMR and external factors supports the claim that aspects of quality of life can have a relationship to IMR and therefore improving upon these aspects of quality of life can reduce IMR. Once again, the scatterplots prove the fact that pollution is not a good indicator of quality of life as the data points are all mostly dispersed in the same level or with no correlation. Pollution can therefore be considered as most likely not to have correlation to mean IMR. After seeing the line graph we can see that the same countries are peaking for water related deaths and nutritional deficiency but this pattern is not present for pollution."
      ]
    },
    {
      "cell_type": "code",
      "metadata": {
        "id": "-2YUtUESwwgv",
        "colab": {
          "base_uri": "https://localhost:8080/"
        },
        "outputId": "2f418f65-ca57-49cf-bd03-56d2b6ab0f0a"
      },
      "source": [
        "def insight5():\n",
        "  imrdata = pd.read_csv(\"imrdata.csv\", delimiter = \",\", index_col= 0)\n",
        "  imrdata = imrdata.set_index(\"Country\")\n",
        "  imrdata = imrdata.reset_index()\n",
        "  imrdata.loc[\"Mean by Year\", :] = imrdata.mean(axis = 0)\n",
        "  return(imrdata.iloc[-1,:])\n",
        "\n",
        "\n",
        "\n",
        "\n",
        "\n",
        "\n",
        "############ Function Call ############\n",
        "insight5()"
      ],
      "execution_count": null,
      "outputs": [
        {
          "output_type": "execute_result",
          "data": {
            "text/plain": [
              "Country                NaN\n",
              "1995               46.6423\n",
              "1996               45.5155\n",
              "1997               44.3796\n",
              "1998               43.1847\n",
              "1999               41.8535\n",
              "2000               40.4857\n",
              "2001                 39.09\n",
              "2002               37.7112\n",
              "2003               36.3673\n",
              "2004               35.0989\n",
              "2005               33.8222\n",
              "2006               32.6373\n",
              "2007               31.5323\n",
              "2008               30.5149\n",
              "2009               29.4767\n",
              "2010               28.6384\n",
              "2011               27.6185\n",
              "2012               26.7832\n",
              "2013               26.0147\n",
              "2014               25.3052\n",
              "2015               24.6064\n",
              "2016               23.9601\n",
              "2017               23.3069\n",
              "2018               22.6569\n",
              "2019               22.0539\n",
              "Mean by Country    32.7702\n",
              "Name: Mean by Year, dtype: object"
            ]
          },
          "metadata": {},
          "execution_count": 6
        }
      ]
    },
    {
      "cell_type": "markdown",
      "metadata": {
        "id": "JabcFGP9xIyn"
      },
      "source": [
        "### Insight 5 Explanation\n",
        "\n",
        "It is a little more refreshing to understand that over the course of time, the mean IMR of countries has been decreasing over the years. This steady decline is something that we owe gratitude to improvements in the medical industry, education, and technology for."
      ]
    },
    {
      "cell_type": "markdown",
      "metadata": {
        "id": "xN58r5MNxN4m"
      },
      "source": [
        "## Data Visualizations"
      ]
    },
    {
      "cell_type": "code",
      "metadata": {
        "id": "stKXZGSnxS0f",
        "colab": {
          "base_uri": "https://localhost:8080/",
          "height": 402
        },
        "outputId": "50f70538-c585-43d1-8456-c4a7514b7b9e"
      },
      "source": [
        "def visual1():\n",
        "  data = pd.read_csv(\"imrdata.csv\", delimiter = \",\", index_col = 0)\n",
        "  databyincome = data.iloc[0:5]\n",
        "  databyincome.sort_values(by = \"Mean by Country\", ascending = False, inplace = True)\n",
        "  plt.bar(databyincome[\"Country\"], databyincome['Mean by Country'], color = 'maroon')\n",
        "  plt.xlabel('Income Levels')\n",
        "  plt.ylabel('Mean IMR')\n",
        "  plt.title('Which Income Levels Have The Highest and Lowest Mean IMR')\n",
        "\n",
        "  plt.show()\n",
        "\n",
        "\n",
        "\n",
        "\n",
        "\n",
        "\n",
        "############ Function Call ############\n",
        "visual1()"
      ],
      "execution_count": null,
      "outputs": [
        {
          "output_type": "stream",
          "name": "stderr",
          "text": [
            "/usr/local/lib/python3.7/dist-packages/ipykernel_launcher.py:4: SettingWithCopyWarning: \n",
            "A value is trying to be set on a copy of a slice from a DataFrame\n",
            "\n",
            "See the caveats in the documentation: https://pandas.pydata.org/pandas-docs/stable/user_guide/indexing.html#returning-a-view-versus-a-copy\n",
            "  after removing the cwd from sys.path.\n"
          ]
        },
        {
          "output_type": "display_data",
          "data": {
            "image/png": "[encoded data removed]",
            "text/plain": [
              "<Figure size 432x288 with 1 Axes>"
            ]
          },
          "metadata": {
            "needs_background": "light"
          }
        }
      ]
    },
    {
      "cell_type": "markdown",
      "metadata": {
        "id": "-CDB8hXwxgSB"
      },
      "source": [
        "### Visualization 1 Explanation\n",
        "\n",
        "The bar graph shows the distribution of mean IMR over the years for each country in its income level. The bar is skewed right, displaying a decrease in IMR as the income level rises. This means that IMR is more prevalent in countries with overall low income.\n"
      ]
    },
    {
      "cell_type": "code",
      "metadata": {
        "id": "vACib_mBxW0E",
        "colab": {
          "base_uri": "https://localhost:8080/",
          "height": 295
        },
        "outputId": "8801d9cd-f8fb-49ea-a3b5-c27bc21f4721"
      },
      "source": [
        "def visual2():\n",
        "  new = pd.read_csv(\"agg_factors.csv\", delimiter = \",\")\n",
        "  plt.plot(range(1,117), new['Pollution'], color = 'red', label = 'Pollution')\n",
        "  plt.plot(range(1,117), new['Female%'], color = 'green', label = 'Nutritional Deficency')\n",
        "  plt.plot(range(1,117), new['Deaths'], color = 'blue', label = 'Water')\n",
        "  plt.xlabel('Country Number')\n",
        "  plt.ylabel('Pollution, Female% Nutritionally Deficient, Deaths')\n",
        "  plt.title('Three Factors Measuring Quality of Life')\n",
        "  plt.legend(loc = 'upper left')\n",
        "  plt.show()\n",
        "\n",
        "\n",
        "\n",
        "\n",
        "\n",
        "############ Function Call ############\n",
        "visual2()"
      ],
      "execution_count": null,
      "outputs": [
        {
          "output_type": "display_data",
          "data": {
            "image/png": "[encoded data removed]",
            "text/plain": [
              "<Figure size 432x288 with 1 Axes>"
            ]
          },
          "metadata": {
            "needs_background": "light"
          }
        }
      ]
    },
    {
      "cell_type": "markdown",
      "metadata": {
        "id": "hbq6zDSuxg3b"
      },
      "source": [
        "### Visualization 2 Explanation\n",
        "\n",
        "The number of water deaths in thousands and the percent of nutritional deficiency between males and females show spikes in similar places in the graph and therefore make it reasonable to assume that water deaths and nutritional deficiencies can be associated in terms of quality of living. On the other hand, pollution shows a varying display with dips in the data at occasions.  "
      ]
    },
    {
      "cell_type": "code",
      "metadata": {
        "id": "mOyKClx1xXOt",
        "colab": {
          "base_uri": "https://localhost:8080/",
          "height": 851
        },
        "outputId": "b532e320-a39b-4da0-c7e9-9b620b57bf3f"
      },
      "source": [
        "def visual3():\n",
        "  all = pd.read_csv(\"agg_all.csv\", delimiter = \",\", index_col= 0)\n",
        "  plt.scatter(all[\"Mean IMR\"], all[\"Female%\"], color = 'green')\n",
        "  plt.xlabel('Mean IMR')\n",
        "  plt.ylabel('Female% nutritional deficiencient')\n",
        "  plt.title('Female% nutritional deficiencient vs Mean IMR')\n",
        "  plt.show()\n",
        "\n",
        "  temp = all.drop([\"India\"], axis=0)\n",
        "  temp = temp.drop([\"Nigeria\"], axis = 0)\n",
        "  temp = temp.drop([\"Pakistan\"], axis = 0)\n",
        "  plt.scatter(temp[\"Mean IMR\"], temp[\"Deaths\"], color = 'blue')\n",
        "  plt.xlabel('Mean IMR')\n",
        "  plt.ylabel('Deaths Caused by Water')\n",
        "  plt.title('Deaths Caused by Water vs Mean IMR')\n",
        "  plt.show()\n",
        "\n",
        "  plt.scatter(all[\"Mean IMR\"], all[\"Pollution\"], color = 'red')\n",
        "  plt.xlabel('Mean IMR')\n",
        "  plt.ylabel('Pollution')\n",
        "  plt.title('Pollution vs Mean IMR')\n",
        "  plt.show()\n",
        "\n",
        "\n",
        "\n",
        "\n",
        "\n",
        "\n",
        "\n",
        "\n",
        "\n",
        "############ Function Call ############\n",
        "visual3()"
      ],
      "execution_count": null,
      "outputs": [
        {
          "output_type": "display_data",
          "data": {
            "image/png": "[encoded data removed]",
            "text/plain": [
              "<Figure size 432x288 with 1 Axes>"
            ]
          },
          "metadata": {
            "needs_background": "light"
          }
        },
        {
          "output_type": "display_data",
          "data": {
            "image/png": "[encoded data removed]",
            "text/plain": [
              "<Figure size 432x288 with 1 Axes>"
            ]
          },
          "metadata": {
            "needs_background": "light"
          }
        },
        {
          "output_type": "display_data",
          "data": {
            "image/png": "[encoded data removed]",
            "text/plain": [
              "<Figure size 432x288 with 1 Axes>"
            ]
          },
          "metadata": {
            "needs_background": "light"
          }
        }
      ]
    },
    {
      "cell_type": "markdown",
      "metadata": {
        "id": "YLZvX6Plxhhs"
      },
      "source": [
        "### Visualization 3 Explanation\n",
        "\n",
        "The scatterplot for nutritional deficiencies shows a moderately strong, positive correlation. The deaths caused by water scatterplot has a very moderate positive correlation. The pollution vs mean scatter plot has little to no correlation as all the points are either at the same level or dispersed with no pattern."
      ]
    },
    {
      "cell_type": "markdown",
      "metadata": {
        "id": "vw5PqFI8xs0B"
      },
      "source": [
        "## Summary File"
      ]
    },
    {
      "cell_type": "code",
      "metadata": {
        "id": "1U36oIX5xvlR"
      },
      "source": [
        "def summary1():\n",
        "  nddata = pd.read_csv(\"nddata.csv\", delimiter = \",\", index_col= 0)\n",
        "  imrdata = pd.read_csv(\"imrdata.csv\", delimiter = \",\", index_col= 0)\n",
        "  waterdata = pd.read_csv(\"waterdata.csv\", delimiter = \",\")\n",
        "  pollutiondata = pd.read_csv(\"pollutiondata.csv\", delimiter = \",\")\n",
        "  combined = pd.concat([imrdata, nddata, waterdata, pollutiondata])\n",
        "  combined = combined.groupby(\"Country\").aggregate({\"Male%\":\"sum\", \"Female%\" : \"sum\", \"Deaths\" : \"sum\", \"Mean by Country\": \"sum\", \"Pollution\": \"sum\"})\n",
        "  combined  = combined.rename(columns = {\"Mean by Country\": \"Mean IMR\"})\n",
        "  combined = combined.replace(0, np.NaN)\n",
        "  combined = combined.dropna()\n",
        "  combined.to_csv(\"agg_all.csv\")\n",
        "\n",
        "\n",
        "\n",
        "\n",
        "\n",
        "############ Function Call ############\n",
        "summary1()"
      ],
      "execution_count": null,
      "outputs": []
    },
    {
      "cell_type": "markdown",
      "metadata": {
        "id": "kd74HqEPx8zh"
      },
      "source": [
        "# Cited Sources\n",
        "\n",
        "If you used any additional sources to complete your Data Analysis section, list them here:\n",
        "\n",
        "\n",
        "https://www.congress.gov/bill/117th-congress/house-bill/959\n",
        "https://www.dispatch.com/story/opinion/columns/guest/2021/12/06/opinion-better-maternal-and-infant-healthcare-lowers-mortality-rates/8850709002/\n",
        "https://www.whitehouse.gov/build-back-better/\n",
        "\n",
        "\n"
      ]
    },
    {
      "cell_type": "markdown",
      "metadata": {
        "id": "iuYbFQplyXK2"
      },
      "source": [
        "# Video Presentation\n",
        "\n",
        "If you uploaded your Video Presentation to Bluejeans, YouTube, or any other streaming services, please provide the link here:\n",
        "\n",
        "\n",
        "[*  https://www.youtube.com/watch?v=rUd6qfqxqf0&feature=youtu.be\n",
        "\n",
        "Make sure the video sharing permissions are accessible for anyone with the provided link."
      ]
    },
    {
      "cell_type": "markdown",
      "metadata": {
        "id": "mZENd-i9cinj"
      },
      "source": [
        "# Submission\n",
        "\n",
        "Prior to submitting your notebook to Gradescope, be sure to <b>run all functions within this file</b>. We will not run your functions ourselves, so we must see your outputs within this file in order to receive full credit.\n"
      ]
    }
  ]
}